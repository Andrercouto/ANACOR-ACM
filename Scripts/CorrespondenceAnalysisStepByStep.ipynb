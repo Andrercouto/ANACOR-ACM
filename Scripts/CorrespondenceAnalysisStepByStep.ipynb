{
 "cells": [
  {
   "cell_type": "markdown",
   "id": "661d971c",
   "metadata": {},
   "source": [
    "# Correspondence Analysis Step by Step\n",
    "\n",
    "The actual script encompasses an application of the *Correspondence Analysis* technique step by step and checking if the outputs matches results gotten by the [prince](https://pypi.org/project/prince/) library.\n",
    "\n",
    "## Step by step implementation\n",
    "\n",
    "The database used in the implementation concerns a group of people separated by their investment profile and the type of investment they carry out. There are three types of investment profile ('Agressivo', 'Conservador', 'Moderado') and three types of investments ('Ações', 'Poupança', 'CDB').\n",
    "\n",
    "The algorithm aims on:\n",
    "\n",
    "  - Checking if there are any correspondence pattern between these two groups of variables (both categorical);\n",
    "  \n",
    "  \n",
    "  - Which pair of variables are most commomly associated;\n",
    "  \n",
    "  \n",
    "  - Plotting a *Perceptual Map* considering the two groups.\n",
    "\n",
    "\n",
    "### Checking the Dataset\n",
    "\n",
    "The first step is transforming the data into a *Contingency Table*."
   ]
  },
  {
   "cell_type": "code",
   "execution_count": 212,
   "id": "1a9725c5",
   "metadata": {},
   "outputs": [],
   "source": [
    "# Libraries needed\n",
    "import matplotlib.pyplot as plt\n",
    "import seaborn as sns\n",
    "import pandas as pd\n",
    "import numpy as np\n",
    "import scipy\n",
    "import math\n",
    "import prince\n",
    "sns.set()"
   ]
  },
  {
   "cell_type": "code",
   "execution_count": 213,
   "id": "d7d3420a",
   "metadata": {},
   "outputs": [],
   "source": [
    "# Loading Dataset\n",
    "data = pd.read_excel('aplicacao_perfil.xlsx')"
   ]
  },
  {
   "cell_type": "code",
   "execution_count": 214,
   "id": "58c6a69c",
   "metadata": {},
   "outputs": [
    {
     "data": {
      "text/html": [
       "<div>\n",
       "<style scoped>\n",
       "    .dataframe tbody tr th:only-of-type {\n",
       "        vertical-align: middle;\n",
       "    }\n",
       "\n",
       "    .dataframe tbody tr th {\n",
       "        vertical-align: top;\n",
       "    }\n",
       "\n",
       "    .dataframe thead th {\n",
       "        text-align: right;\n",
       "    }\n",
       "</style>\n",
       "<table border=\"1\" class=\"dataframe\">\n",
       "  <thead>\n",
       "    <tr style=\"text-align: right;\">\n",
       "      <th></th>\n",
       "      <th>ID</th>\n",
       "      <th>Perfil</th>\n",
       "      <th>Tipo de Aplicação</th>\n",
       "    </tr>\n",
       "  </thead>\n",
       "  <tbody>\n",
       "    <tr>\n",
       "      <th>0</th>\n",
       "      <td>1</td>\n",
       "      <td>Conservador</td>\n",
       "      <td>Poupança</td>\n",
       "    </tr>\n",
       "    <tr>\n",
       "      <th>1</th>\n",
       "      <td>2</td>\n",
       "      <td>Conservador</td>\n",
       "      <td>Poupança</td>\n",
       "    </tr>\n",
       "    <tr>\n",
       "      <th>2</th>\n",
       "      <td>3</td>\n",
       "      <td>Conservador</td>\n",
       "      <td>Poupança</td>\n",
       "    </tr>\n",
       "    <tr>\n",
       "      <th>3</th>\n",
       "      <td>4</td>\n",
       "      <td>Conservador</td>\n",
       "      <td>Poupança</td>\n",
       "    </tr>\n",
       "    <tr>\n",
       "      <th>4</th>\n",
       "      <td>5</td>\n",
       "      <td>Conservador</td>\n",
       "      <td>Poupança</td>\n",
       "    </tr>\n",
       "    <tr>\n",
       "      <th>5</th>\n",
       "      <td>6</td>\n",
       "      <td>Conservador</td>\n",
       "      <td>Poupança</td>\n",
       "    </tr>\n",
       "    <tr>\n",
       "      <th>6</th>\n",
       "      <td>7</td>\n",
       "      <td>Conservador</td>\n",
       "      <td>Poupança</td>\n",
       "    </tr>\n",
       "    <tr>\n",
       "      <th>7</th>\n",
       "      <td>8</td>\n",
       "      <td>Conservador</td>\n",
       "      <td>Poupança</td>\n",
       "    </tr>\n",
       "    <tr>\n",
       "      <th>8</th>\n",
       "      <td>9</td>\n",
       "      <td>Conservador</td>\n",
       "      <td>CDB</td>\n",
       "    </tr>\n",
       "    <tr>\n",
       "      <th>9</th>\n",
       "      <td>10</td>\n",
       "      <td>Conservador</td>\n",
       "      <td>CDB</td>\n",
       "    </tr>\n",
       "    <tr>\n",
       "      <th>10</th>\n",
       "      <td>11</td>\n",
       "      <td>Conservador</td>\n",
       "      <td>CDB</td>\n",
       "    </tr>\n",
       "    <tr>\n",
       "      <th>11</th>\n",
       "      <td>12</td>\n",
       "      <td>Conservador</td>\n",
       "      <td>CDB</td>\n",
       "    </tr>\n",
       "    <tr>\n",
       "      <th>12</th>\n",
       "      <td>13</td>\n",
       "      <td>Conservador</td>\n",
       "      <td>Ações</td>\n",
       "    </tr>\n",
       "    <tr>\n",
       "      <th>13</th>\n",
       "      <td>14</td>\n",
       "      <td>Conservador</td>\n",
       "      <td>Ações</td>\n",
       "    </tr>\n",
       "    <tr>\n",
       "      <th>14</th>\n",
       "      <td>15</td>\n",
       "      <td>Conservador</td>\n",
       "      <td>Ações</td>\n",
       "    </tr>\n",
       "  </tbody>\n",
       "</table>\n",
       "</div>"
      ],
      "text/plain": [
       "    ID       Perfil Tipo de Aplicação\n",
       "0    1  Conservador          Poupança\n",
       "1    2  Conservador          Poupança\n",
       "2    3  Conservador          Poupança\n",
       "3    4  Conservador          Poupança\n",
       "4    5  Conservador          Poupança\n",
       "5    6  Conservador          Poupança\n",
       "6    7  Conservador          Poupança\n",
       "7    8  Conservador          Poupança\n",
       "8    9  Conservador               CDB\n",
       "9   10  Conservador               CDB\n",
       "10  11  Conservador               CDB\n",
       "11  12  Conservador               CDB\n",
       "12  13  Conservador             Ações\n",
       "13  14  Conservador             Ações\n",
       "14  15  Conservador             Ações"
      ]
     },
     "execution_count": 214,
     "metadata": {},
     "output_type": "execute_result"
    }
   ],
   "source": [
    "# Checking Dataset\n",
    "data.head(15)"
   ]
  },
  {
   "cell_type": "code",
   "execution_count": 215,
   "id": "3661a975",
   "metadata": {},
   "outputs": [
    {
     "data": {
      "text/html": [
       "<div>\n",
       "<style scoped>\n",
       "    .dataframe tbody tr th:only-of-type {\n",
       "        vertical-align: middle;\n",
       "    }\n",
       "\n",
       "    .dataframe tbody tr th {\n",
       "        vertical-align: top;\n",
       "    }\n",
       "\n",
       "    .dataframe thead th {\n",
       "        text-align: right;\n",
       "    }\n",
       "</style>\n",
       "<table border=\"1\" class=\"dataframe\">\n",
       "  <thead>\n",
       "    <tr style=\"text-align: right;\">\n",
       "      <th>Tipo de Aplicação</th>\n",
       "      <th>Poupança</th>\n",
       "      <th>CDB</th>\n",
       "      <th>Ações</th>\n",
       "    </tr>\n",
       "    <tr>\n",
       "      <th>Perfil</th>\n",
       "      <th></th>\n",
       "      <th></th>\n",
       "      <th></th>\n",
       "    </tr>\n",
       "  </thead>\n",
       "  <tbody>\n",
       "    <tr>\n",
       "      <th>Conservador</th>\n",
       "      <td>8</td>\n",
       "      <td>4</td>\n",
       "      <td>5</td>\n",
       "    </tr>\n",
       "    <tr>\n",
       "      <th>Moderado</th>\n",
       "      <td>5</td>\n",
       "      <td>16</td>\n",
       "      <td>4</td>\n",
       "    </tr>\n",
       "    <tr>\n",
       "      <th>Agressivo</th>\n",
       "      <td>2</td>\n",
       "      <td>20</td>\n",
       "      <td>36</td>\n",
       "    </tr>\n",
       "  </tbody>\n",
       "</table>\n",
       "</div>"
      ],
      "text/plain": [
       "Tipo de Aplicação  Poupança  CDB  Ações\n",
       "Perfil                                 \n",
       "Conservador               8    4      5\n",
       "Moderado                  5   16      4\n",
       "Agressivo                 2   20     36"
      ]
     },
     "execution_count": 215,
     "metadata": {},
     "output_type": "execute_result"
    }
   ],
   "source": [
    "# Contingency table\n",
    "contingency_table = data[['Perfil', 'Tipo de Aplicação']].value_counts().reset_index().pivot(index=['Perfil'], columns=['Tipo de Aplicação'])[0].fillna(0)\n",
    "contingency_table = contingency_table[['Poupança', 'CDB', 'Ações']].loc[['Conservador', 'Moderado', 'Agressivo']]\n",
    "contingency_table"
   ]
  },
  {
   "cell_type": "markdown",
   "id": "da505878",
   "metadata": {},
   "source": [
    "Once the raw data was turned into a contingency table, the next step is using the *Chi-Square Test for Association* that will determine if there is any association between two groups.\n",
    "\n",
    "### Chi-Square Test for Association\n",
    "\n",
    "The [scipy](https://docs.scipy.org/) library contains a fuction that could help with the test, but once the script is a step by step implementation, the function will be used just for checking the results.\n",
    "\n",
    "(significance level considered: 5%)"
   ]
  },
  {
   "cell_type": "code",
   "execution_count": 216,
   "id": "25509794",
   "metadata": {},
   "outputs": [
    {
     "name": "stdout",
     "output_type": "stream",
     "text": [
      "H0 rejected, the variables are associated.\n"
     ]
    }
   ],
   "source": [
    "# Applying chi2_contingency function\n",
    "stat, pval, dof, expected = scipy.stats.chi2_contingency(contingency_table)\n",
    "if pval < 0.05:\n",
    "    print('H0 rejected, the variables are associated.')\n",
    "else:\n",
    "    print('H0 accepted, the variables are not associated.')"
   ]
  },
  {
   "cell_type": "code",
   "execution_count": 217,
   "id": "c26fe74f",
   "metadata": {},
   "outputs": [
    {
     "data": {
      "text/html": [
       "<div>\n",
       "<style scoped>\n",
       "    .dataframe tbody tr th:only-of-type {\n",
       "        vertical-align: middle;\n",
       "    }\n",
       "\n",
       "    .dataframe tbody tr th {\n",
       "        vertical-align: top;\n",
       "    }\n",
       "\n",
       "    .dataframe thead th {\n",
       "        text-align: right;\n",
       "    }\n",
       "</style>\n",
       "<table border=\"1\" class=\"dataframe\">\n",
       "  <thead>\n",
       "    <tr style=\"text-align: right;\">\n",
       "      <th>Tipo de Aplicação</th>\n",
       "      <th>Poupança</th>\n",
       "      <th>CDB</th>\n",
       "      <th>Ações</th>\n",
       "    </tr>\n",
       "    <tr>\n",
       "      <th>Perfil</th>\n",
       "      <th></th>\n",
       "      <th></th>\n",
       "      <th></th>\n",
       "    </tr>\n",
       "  </thead>\n",
       "  <tbody>\n",
       "    <tr>\n",
       "      <th>Conservador</th>\n",
       "      <td>2.55</td>\n",
       "      <td>6.8</td>\n",
       "      <td>7.65</td>\n",
       "    </tr>\n",
       "    <tr>\n",
       "      <th>Moderado</th>\n",
       "      <td>3.75</td>\n",
       "      <td>10.0</td>\n",
       "      <td>11.25</td>\n",
       "    </tr>\n",
       "    <tr>\n",
       "      <th>Agressivo</th>\n",
       "      <td>8.7</td>\n",
       "      <td>23.2</td>\n",
       "      <td>26.1</td>\n",
       "    </tr>\n",
       "  </tbody>\n",
       "</table>\n",
       "</div>"
      ],
      "text/plain": [
       "Tipo de Aplicação Poupança   CDB  Ações\n",
       "Perfil                                 \n",
       "Conservador           2.55   6.8   7.65\n",
       "Moderado              3.75  10.0  11.25\n",
       "Agressivo              8.7  23.2   26.1"
      ]
     },
     "execution_count": 217,
     "metadata": {},
     "output_type": "execute_result"
    }
   ],
   "source": [
    "# Expected table\n",
    "expected_table = pd.DataFrame(index = contingency_table.index, columns = contingency_table.columns)\n",
    "for i in expected_table.index:\n",
    "    for j in expected_table.columns:\n",
    "        expected_table[j].loc[i] = (contingency_table.loc[i].sum() * contingency_table[j].sum())/contingency_table.sum().sum()\n",
    "expected_table      "
   ]
  },
  {
   "cell_type": "code",
   "execution_count": 218,
   "id": "29629178",
   "metadata": {},
   "outputs": [
    {
     "data": {
      "text/html": [
       "<div>\n",
       "<style scoped>\n",
       "    .dataframe tbody tr th:only-of-type {\n",
       "        vertical-align: middle;\n",
       "    }\n",
       "\n",
       "    .dataframe tbody tr th {\n",
       "        vertical-align: top;\n",
       "    }\n",
       "\n",
       "    .dataframe thead th {\n",
       "        text-align: right;\n",
       "    }\n",
       "</style>\n",
       "<table border=\"1\" class=\"dataframe\">\n",
       "  <thead>\n",
       "    <tr style=\"text-align: right;\">\n",
       "      <th>Tipo de Aplicação</th>\n",
       "      <th>Poupança</th>\n",
       "      <th>CDB</th>\n",
       "      <th>Ações</th>\n",
       "    </tr>\n",
       "    <tr>\n",
       "      <th>Perfil</th>\n",
       "      <th></th>\n",
       "      <th></th>\n",
       "      <th></th>\n",
       "    </tr>\n",
       "  </thead>\n",
       "  <tbody>\n",
       "    <tr>\n",
       "      <th>Conservador</th>\n",
       "      <td>5.45</td>\n",
       "      <td>-2.8</td>\n",
       "      <td>-2.65</td>\n",
       "    </tr>\n",
       "    <tr>\n",
       "      <th>Moderado</th>\n",
       "      <td>1.25</td>\n",
       "      <td>6.0</td>\n",
       "      <td>-7.25</td>\n",
       "    </tr>\n",
       "    <tr>\n",
       "      <th>Agressivo</th>\n",
       "      <td>-6.7</td>\n",
       "      <td>-3.2</td>\n",
       "      <td>9.9</td>\n",
       "    </tr>\n",
       "  </tbody>\n",
       "</table>\n",
       "</div>"
      ],
      "text/plain": [
       "Tipo de Aplicação Poupança  CDB Ações\n",
       "Perfil                               \n",
       "Conservador           5.45 -2.8 -2.65\n",
       "Moderado              1.25  6.0 -7.25\n",
       "Agressivo             -6.7 -3.2   9.9"
      ]
     },
     "execution_count": 218,
     "metadata": {},
     "output_type": "execute_result"
    }
   ],
   "source": [
    "# Residual table\n",
    "residual_table = contingency_table - expected_table\n",
    "residual_table"
   ]
  },
  {
   "cell_type": "code",
   "execution_count": 219,
   "id": "1eb0f9b9",
   "metadata": {},
   "outputs": [
    {
     "data": {
      "text/html": [
       "<div>\n",
       "<style scoped>\n",
       "    .dataframe tbody tr th:only-of-type {\n",
       "        vertical-align: middle;\n",
       "    }\n",
       "\n",
       "    .dataframe tbody tr th {\n",
       "        vertical-align: top;\n",
       "    }\n",
       "\n",
       "    .dataframe thead th {\n",
       "        text-align: right;\n",
       "    }\n",
       "</style>\n",
       "<table border=\"1\" class=\"dataframe\">\n",
       "  <thead>\n",
       "    <tr style=\"text-align: right;\">\n",
       "      <th>Tipo de Aplicação</th>\n",
       "      <th>Poupança</th>\n",
       "      <th>CDB</th>\n",
       "      <th>Ações</th>\n",
       "    </tr>\n",
       "    <tr>\n",
       "      <th>Perfil</th>\n",
       "      <th></th>\n",
       "      <th></th>\n",
       "      <th></th>\n",
       "    </tr>\n",
       "  </thead>\n",
       "  <tbody>\n",
       "    <tr>\n",
       "      <th>Conservador</th>\n",
       "      <td>11.648039</td>\n",
       "      <td>1.152941</td>\n",
       "      <td>0.917974</td>\n",
       "    </tr>\n",
       "    <tr>\n",
       "      <th>Moderado</th>\n",
       "      <td>0.416667</td>\n",
       "      <td>3.6</td>\n",
       "      <td>4.672222</td>\n",
       "    </tr>\n",
       "    <tr>\n",
       "      <th>Agressivo</th>\n",
       "      <td>5.15977</td>\n",
       "      <td>0.441379</td>\n",
       "      <td>3.755172</td>\n",
       "    </tr>\n",
       "  </tbody>\n",
       "</table>\n",
       "</div>"
      ],
      "text/plain": [
       "Tipo de Aplicação   Poupança       CDB     Ações\n",
       "Perfil                                          \n",
       "Conservador        11.648039  1.152941  0.917974\n",
       "Moderado            0.416667       3.6  4.672222\n",
       "Agressivo            5.15977  0.441379  3.755172"
      ]
     },
     "execution_count": 219,
     "metadata": {},
     "output_type": "execute_result"
    }
   ],
   "source": [
    "# Chi-Square table\n",
    "chi2_table = (residual_table**2)/expected_table\n",
    "chi2_table"
   ]
  },
  {
   "cell_type": "code",
   "execution_count": 220,
   "id": "908e4bdb",
   "metadata": {},
   "outputs": [
    {
     "name": "stdout",
     "output_type": "stream",
     "text": [
      "2.137594051381398e-06 2.1375940514323233e-06\n",
      "31.764164976335362 31.76416497633536\n",
      "4 4\n"
     ]
    }
   ],
   "source": [
    "# Comparing calculated results to the chi2_contingency function\n",
    "\n",
    "# Statistic\n",
    "stat_f = chi2_table.sum().sum()\n",
    "stat_f\n",
    "\n",
    "# Degrees of Freedom\n",
    "dof_f = (len(contingency_table.columns)-1)*(len(contingency_table.index)-1)\n",
    "\n",
    "# P value\n",
    "pval_f = 1 - scipy.stats.chi2.cdf(stat_f, dof_f)\n",
    "pval_f\n",
    "\n",
    "# Comparing\n",
    "print(pval, pval_f)\n",
    "print(stat, stat_f)\n",
    "print(dof, dof_f)"
   ]
  },
  {
   "cell_type": "markdown",
   "id": "8543442b",
   "metadata": {},
   "source": [
    "There is association between the variables.\n",
    "\n",
    "### Standardized (and Adjusted Standardized) Residuals Table\n",
    "\n",
    "The adjusted standardized residuals allows deepening the analysis focusing on the specific categories among the variables."
   ]
  },
  {
   "cell_type": "code",
   "execution_count": 221,
   "id": "ad2d70f5",
   "metadata": {},
   "outputs": [
    {
     "data": {
      "text/html": [
       "<div>\n",
       "<style scoped>\n",
       "    .dataframe tbody tr th:only-of-type {\n",
       "        vertical-align: middle;\n",
       "    }\n",
       "\n",
       "    .dataframe tbody tr th {\n",
       "        vertical-align: top;\n",
       "    }\n",
       "\n",
       "    .dataframe thead th {\n",
       "        text-align: right;\n",
       "    }\n",
       "</style>\n",
       "<table border=\"1\" class=\"dataframe\">\n",
       "  <thead>\n",
       "    <tr style=\"text-align: right;\">\n",
       "      <th>Tipo de Aplicação</th>\n",
       "      <th>Poupança</th>\n",
       "      <th>CDB</th>\n",
       "      <th>Ações</th>\n",
       "    </tr>\n",
       "    <tr>\n",
       "      <th>Perfil</th>\n",
       "      <th></th>\n",
       "      <th></th>\n",
       "      <th></th>\n",
       "    </tr>\n",
       "  </thead>\n",
       "  <tbody>\n",
       "    <tr>\n",
       "      <th>Conservador</th>\n",
       "      <td>3.412922</td>\n",
       "      <td>-1.073751</td>\n",
       "      <td>-0.95811</td>\n",
       "    </tr>\n",
       "    <tr>\n",
       "      <th>Moderado</th>\n",
       "      <td>0.645497</td>\n",
       "      <td>1.897367</td>\n",
       "      <td>-2.161532</td>\n",
       "    </tr>\n",
       "    <tr>\n",
       "      <th>Agressivo</th>\n",
       "      <td>-2.271513</td>\n",
       "      <td>-0.664364</td>\n",
       "      <td>1.937827</td>\n",
       "    </tr>\n",
       "  </tbody>\n",
       "</table>\n",
       "</div>"
      ],
      "text/plain": [
       "Tipo de Aplicação  Poupança       CDB     Ações\n",
       "Perfil                                         \n",
       "Conservador        3.412922 -1.073751  -0.95811\n",
       "Moderado           0.645497  1.897367 -2.161532\n",
       "Agressivo         -2.271513 -0.664364  1.937827"
      ]
     },
     "execution_count": 221,
     "metadata": {},
     "output_type": "execute_result"
    }
   ],
   "source": [
    "# Standardized Residual table\n",
    "st_residual_table = residual_table/(expected_table**(1/2))\n",
    "st_residual_table"
   ]
  },
  {
   "cell_type": "code",
   "execution_count": 222,
   "id": "515e843e",
   "metadata": {},
   "outputs": [
    {
     "data": {
      "text/html": [
       "<div>\n",
       "<style scoped>\n",
       "    .dataframe tbody tr th:only-of-type {\n",
       "        vertical-align: middle;\n",
       "    }\n",
       "\n",
       "    .dataframe tbody tr th {\n",
       "        vertical-align: top;\n",
       "    }\n",
       "\n",
       "    .dataframe thead th {\n",
       "        text-align: right;\n",
       "    }\n",
       "</style>\n",
       "<table border=\"1\" class=\"dataframe\">\n",
       "  <thead>\n",
       "    <tr style=\"text-align: right;\">\n",
       "      <th>Tipo de Aplicação</th>\n",
       "      <th>Poupança</th>\n",
       "      <th>CDB</th>\n",
       "      <th>Ações</th>\n",
       "    </tr>\n",
       "    <tr>\n",
       "      <th>Perfil</th>\n",
       "      <th></th>\n",
       "      <th></th>\n",
       "      <th></th>\n",
       "    </tr>\n",
       "  </thead>\n",
       "  <tbody>\n",
       "    <tr>\n",
       "      <th>Conservador</th>\n",
       "      <td>4.063291</td>\n",
       "      <td>-1.521559</td>\n",
       "      <td>-1.418061</td>\n",
       "    </tr>\n",
       "    <tr>\n",
       "      <th>Moderado</th>\n",
       "      <td>0.808452</td>\n",
       "      <td>2.828427</td>\n",
       "      <td>-3.365501</td>\n",
       "    </tr>\n",
       "    <tr>\n",
       "      <th>Agressivo</th>\n",
       "      <td>-3.801728</td>\n",
       "      <td>-1.323444</td>\n",
       "      <td>4.031893</td>\n",
       "    </tr>\n",
       "  </tbody>\n",
       "</table>\n",
       "</div>"
      ],
      "text/plain": [
       "Tipo de Aplicação  Poupança       CDB     Ações\n",
       "Perfil                                         \n",
       "Conservador        4.063291 -1.521559 -1.418061\n",
       "Moderado           0.808452  2.828427 -3.365501\n",
       "Agressivo         -3.801728 -1.323444  4.031893"
      ]
     },
     "execution_count": 222,
     "metadata": {},
     "output_type": "execute_result"
    }
   ],
   "source": [
    "# Adjusted Standardized Residual table\n",
    "ad_st_residual_table = pd.DataFrame(index = st_residual_table.index, columns = st_residual_table.columns)\n",
    "for i in st_residual_table.index:\n",
    "    for j in st_residual_table.columns:\n",
    "        ad_st_residual_table[j].loc[i] =  st_residual_table[j].loc[i] / ((1 - (contingency_table.loc[i].sum()/contingency_table.sum().sum())) * (1 - (contingency_table[j].sum()/contingency_table.sum().sum())))**(1/2)\n",
    "ad_st_residual_table      "
   ]
  },
  {
   "cell_type": "markdown",
   "id": "895e8c96",
   "metadata": {},
   "source": [
    "If the cell's value on the table is bigger than 1.96 there's significant association between the row and column categories."
   ]
  },
  {
   "cell_type": "code",
   "execution_count": 223,
   "id": "81b291cf",
   "metadata": {},
   "outputs": [
    {
     "data": {
      "text/html": [
       "<style type=\"text/css\">\n",
       "#T_96c71_row0_col0, #T_96c71_row1_col1, #T_96c71_row2_col2 {\n",
       "  color: red;\n",
       "}\n",
       "#T_96c71_row0_col1, #T_96c71_row0_col2, #T_96c71_row1_col0, #T_96c71_row1_col2, #T_96c71_row2_col0, #T_96c71_row2_col1 {\n",
       "  color: black;\n",
       "}\n",
       "</style>\n",
       "<table id=\"T_96c71\">\n",
       "  <thead>\n",
       "    <tr>\n",
       "      <th class=\"index_name level0\" >Tipo de Aplicação</th>\n",
       "      <th id=\"T_96c71_level0_col0\" class=\"col_heading level0 col0\" >Poupança</th>\n",
       "      <th id=\"T_96c71_level0_col1\" class=\"col_heading level0 col1\" >CDB</th>\n",
       "      <th id=\"T_96c71_level0_col2\" class=\"col_heading level0 col2\" >Ações</th>\n",
       "    </tr>\n",
       "    <tr>\n",
       "      <th class=\"index_name level0\" >Perfil</th>\n",
       "      <th class=\"blank col0\" >&nbsp;</th>\n",
       "      <th class=\"blank col1\" >&nbsp;</th>\n",
       "      <th class=\"blank col2\" >&nbsp;</th>\n",
       "    </tr>\n",
       "  </thead>\n",
       "  <tbody>\n",
       "    <tr>\n",
       "      <th id=\"T_96c71_level0_row0\" class=\"row_heading level0 row0\" >Conservador</th>\n",
       "      <td id=\"T_96c71_row0_col0\" class=\"data row0 col0\" >4.063291</td>\n",
       "      <td id=\"T_96c71_row0_col1\" class=\"data row0 col1\" >-1.521559</td>\n",
       "      <td id=\"T_96c71_row0_col2\" class=\"data row0 col2\" >-1.418061</td>\n",
       "    </tr>\n",
       "    <tr>\n",
       "      <th id=\"T_96c71_level0_row1\" class=\"row_heading level0 row1\" >Moderado</th>\n",
       "      <td id=\"T_96c71_row1_col0\" class=\"data row1 col0\" >0.808452</td>\n",
       "      <td id=\"T_96c71_row1_col1\" class=\"data row1 col1\" >2.828427</td>\n",
       "      <td id=\"T_96c71_row1_col2\" class=\"data row1 col2\" >-3.365501</td>\n",
       "    </tr>\n",
       "    <tr>\n",
       "      <th id=\"T_96c71_level0_row2\" class=\"row_heading level0 row2\" >Agressivo</th>\n",
       "      <td id=\"T_96c71_row2_col0\" class=\"data row2 col0\" >-3.801728</td>\n",
       "      <td id=\"T_96c71_row2_col1\" class=\"data row2 col1\" >-1.323444</td>\n",
       "      <td id=\"T_96c71_row2_col2\" class=\"data row2 col2\" >4.031893</td>\n",
       "    </tr>\n",
       "  </tbody>\n",
       "</table>\n"
      ],
      "text/plain": [
       "<pandas.io.formats.style.Styler at 0x1eebf23d820>"
      ]
     },
     "execution_count": 223,
     "metadata": {},
     "output_type": "execute_result"
    }
   ],
   "source": [
    "# Interpreting\n",
    "def red(val):\n",
    "    color = 'red' if val > 1.96 else 'black'\n",
    "    return 'color: %s' % color\n",
    "\n",
    "ad_st_residual_table.style.applymap(red)"
   ]
  },
  {
   "cell_type": "markdown",
   "id": "ddc9dbb5",
   "metadata": {},
   "source": [
    "As it can be checked, there are some significant significant association between 'Conservador' and 'Poupança', 'Moderado' and 'CDB', 'Agressivo' and 'Ações'.\n",
    "\n",
    "### Eigenvalues\n",
    "\n",
    "In order to proceed with the analysis eigenvalues need to be found and intepreted.\n",
    "\n",
    "It's also important to point that the Perceptual Map - helps to visualize the associations between the categories over the different variables - it can have more than two dimensions, the number is the minimum of row categories minus 1 or column categories minus 1, whichever is less.\n"
   ]
  },
  {
   "cell_type": "code",
   "execution_count": 224,
   "id": "382bc107",
   "metadata": {},
   "outputs": [
    {
     "data": {
      "text/plain": [
       "array([[0.34129223864140645, -0.10737509843863184, -0.0958109522032398],\n",
       "       [0.06454972243679027, 0.18973665961010275, -0.21615323782497967],\n",
       "       [-0.2271512737129715, -0.06643638388299196, 0.19378267243985212]],\n",
       "      dtype=object)"
      ]
     },
     "execution_count": 224,
     "metadata": {},
     "output_type": "execute_result"
    }
   ],
   "source": [
    "# A Matrix\n",
    "matrix_a = np.array(st_residual_table/contingency_table.sum().sum()**(1/2))\n",
    "matrix_a"
   ]
  },
  {
   "cell_type": "code",
   "execution_count": 225,
   "id": "1ce1bf79",
   "metadata": {},
   "outputs": [
    {
     "data": {
      "text/plain": [
       "array([[0.1722447599729547, -0.00930772978664061, -0.09067014673744041],\n",
       "       [-0.00930772978664061, 0.05194320486815415, -0.04359870290058393],\n",
       "       [-0.09067014673744041, -0.04359870290058393, 0.09345368492224475]],\n",
       "      dtype=object)"
      ]
     },
     "execution_count": 225,
     "metadata": {},
     "output_type": "execute_result"
    }
   ],
   "source": [
    "# W Matrix\n",
    "matrix_w = np.dot(matrix_a.T,matrix_a)\n",
    "matrix_w"
   ]
  },
  {
   "cell_type": "code",
   "execution_count": 226,
   "id": "a4b07cbb",
   "metadata": {},
   "outputs": [
    {
     "data": {
      "text/plain": [
       "array([0.23321487, 0.08442678])"
      ]
     },
     "execution_count": 226,
     "metadata": {},
     "output_type": "execute_result"
    }
   ],
   "source": [
    "ndim = min(contingency_table.shape) - 1\n",
    "\n",
    "# Eigenvalues\n",
    "vals, vecs = np.linalg.eig(matrix_w. astype(float))\n",
    "vals = vals[0:ndim]\n",
    "vals"
   ]
  },
  {
   "cell_type": "code",
   "execution_count": 227,
   "id": "55ebeed1",
   "metadata": {},
   "outputs": [
    {
     "data": {
      "text/html": [
       "<div>\n",
       "<style scoped>\n",
       "    .dataframe tbody tr th:only-of-type {\n",
       "        vertical-align: middle;\n",
       "    }\n",
       "\n",
       "    .dataframe tbody tr th {\n",
       "        vertical-align: top;\n",
       "    }\n",
       "\n",
       "    .dataframe thead th {\n",
       "        text-align: right;\n",
       "    }\n",
       "</style>\n",
       "<table border=\"1\" class=\"dataframe\">\n",
       "  <thead>\n",
       "    <tr style=\"text-align: right;\">\n",
       "      <th></th>\n",
       "      <th>Eigenvalue</th>\n",
       "      <th>% TPI</th>\n",
       "      <th>Single Value</th>\n",
       "    </tr>\n",
       "  </thead>\n",
       "  <tbody>\n",
       "    <tr>\n",
       "      <th>1</th>\n",
       "      <td>0.233215</td>\n",
       "      <td>0.734207</td>\n",
       "      <td>0.482923</td>\n",
       "    </tr>\n",
       "    <tr>\n",
       "      <th>2</th>\n",
       "      <td>0.084427</td>\n",
       "      <td>0.265793</td>\n",
       "      <td>0.290563</td>\n",
       "    </tr>\n",
       "  </tbody>\n",
       "</table>\n",
       "</div>"
      ],
      "text/plain": [
       "   Eigenvalue     % TPI  Single Value\n",
       "1    0.233215  0.734207      0.482923\n",
       "2    0.084427  0.265793      0.290563"
      ]
     },
     "execution_count": 227,
     "metadata": {},
     "output_type": "execute_result"
    }
   ],
   "source": [
    "# Eigenvalues DataFrame\n",
    "df_eigenvalues = pd.DataFrame(index=[1,2], columns = ['Eigenvalue', '% TPI', 'Single Value'])\n",
    "df_eigenvalues['Eigenvalue'] = vals\n",
    "df_eigenvalues['% TPI'] = vals/vals.sum()\n",
    "df_eigenvalues['Single Value'] = vals**(1/2)\n",
    "df_eigenvalues"
   ]
  },
  {
   "cell_type": "markdown",
   "id": "5df01327",
   "metadata": {},
   "source": [
    "The '% TPI' column represents the percentage of the Total Principal Inertia, a (for each column) greater the total principal inertia inticates a stronger association between the variables in analysis on that dimension.\n",
    "\n",
    "### Row and Column Masses\n",
    "\n",
    "In the terminology of correspondence analysis, the row and column totals of the matrix of relative frequencies are called the row mass and column mass, respectively. Two diagonal matrixes (for rows and columns), containing the masses on their main diagonal and zeros out of it."
   ]
  },
  {
   "cell_type": "code",
   "execution_count": 228,
   "id": "74e4e810",
   "metadata": {},
   "outputs": [
    {
     "data": {
      "text/plain": [
       "Perfil\n",
       "Conservador    0.17\n",
       "Moderado       0.25\n",
       "Agressivo      0.58\n",
       "dtype: float64"
      ]
     },
     "execution_count": 228,
     "metadata": {},
     "output_type": "execute_result"
    }
   ],
   "source": [
    "# Row masses\n",
    "row_masses = contingency_table.sum(1)/contingency_table.sum().sum()\n",
    "row_masses"
   ]
  },
  {
   "cell_type": "code",
   "execution_count": 229,
   "id": "cba1b45c",
   "metadata": {},
   "outputs": [
    {
     "data": {
      "text/html": [
       "<div>\n",
       "<style scoped>\n",
       "    .dataframe tbody tr th:only-of-type {\n",
       "        vertical-align: middle;\n",
       "    }\n",
       "\n",
       "    .dataframe tbody tr th {\n",
       "        vertical-align: top;\n",
       "    }\n",
       "\n",
       "    .dataframe thead th {\n",
       "        text-align: right;\n",
       "    }\n",
       "</style>\n",
       "<table border=\"1\" class=\"dataframe\">\n",
       "  <thead>\n",
       "    <tr style=\"text-align: right;\">\n",
       "      <th></th>\n",
       "      <th>0</th>\n",
       "      <th>1</th>\n",
       "      <th>2</th>\n",
       "    </tr>\n",
       "  </thead>\n",
       "  <tbody>\n",
       "    <tr>\n",
       "      <th>0</th>\n",
       "      <td>0.17</td>\n",
       "      <td>0.00</td>\n",
       "      <td>0.00</td>\n",
       "    </tr>\n",
       "    <tr>\n",
       "      <th>1</th>\n",
       "      <td>0.00</td>\n",
       "      <td>0.25</td>\n",
       "      <td>0.00</td>\n",
       "    </tr>\n",
       "    <tr>\n",
       "      <th>2</th>\n",
       "      <td>0.00</td>\n",
       "      <td>0.00</td>\n",
       "      <td>0.58</td>\n",
       "    </tr>\n",
       "  </tbody>\n",
       "</table>\n",
       "</div>"
      ],
      "text/plain": [
       "      0     1     2\n",
       "0  0.17  0.00  0.00\n",
       "1  0.00  0.25  0.00\n",
       "2  0.00  0.00  0.58"
      ]
     },
     "execution_count": 229,
     "metadata": {},
     "output_type": "execute_result"
    }
   ],
   "source": [
    "# Rows Diagonal Matrix\n",
    "diag_matrix_row = pd.DataFrame(np.identity(3))\n",
    "for i in diag_matrix_row.index:\n",
    "    diag_matrix_row.loc[i] = diag_matrix_row.loc[i] * row_masses[i]\n",
    "diag_matrix_row"
   ]
  },
  {
   "cell_type": "code",
   "execution_count": 230,
   "id": "3fa5edaf",
   "metadata": {},
   "outputs": [
    {
     "data": {
      "text/plain": [
       "Tipo de Aplicação\n",
       "Poupança    0.15\n",
       "CDB         0.40\n",
       "Ações       0.45\n",
       "dtype: float64"
      ]
     },
     "execution_count": 230,
     "metadata": {},
     "output_type": "execute_result"
    }
   ],
   "source": [
    "# Column masses\n",
    "column_masses = contingency_table.sum()/contingency_table.sum().sum()\n",
    "column_masses"
   ]
  },
  {
   "cell_type": "code",
   "execution_count": 231,
   "id": "40c23fc2",
   "metadata": {},
   "outputs": [
    {
     "data": {
      "text/html": [
       "<div>\n",
       "<style scoped>\n",
       "    .dataframe tbody tr th:only-of-type {\n",
       "        vertical-align: middle;\n",
       "    }\n",
       "\n",
       "    .dataframe tbody tr th {\n",
       "        vertical-align: top;\n",
       "    }\n",
       "\n",
       "    .dataframe thead th {\n",
       "        text-align: right;\n",
       "    }\n",
       "</style>\n",
       "<table border=\"1\" class=\"dataframe\">\n",
       "  <thead>\n",
       "    <tr style=\"text-align: right;\">\n",
       "      <th></th>\n",
       "      <th>0</th>\n",
       "      <th>1</th>\n",
       "      <th>2</th>\n",
       "    </tr>\n",
       "  </thead>\n",
       "  <tbody>\n",
       "    <tr>\n",
       "      <th>0</th>\n",
       "      <td>0.15</td>\n",
       "      <td>0.0</td>\n",
       "      <td>0.00</td>\n",
       "    </tr>\n",
       "    <tr>\n",
       "      <th>1</th>\n",
       "      <td>0.00</td>\n",
       "      <td>0.4</td>\n",
       "      <td>0.00</td>\n",
       "    </tr>\n",
       "    <tr>\n",
       "      <th>2</th>\n",
       "      <td>0.00</td>\n",
       "      <td>0.0</td>\n",
       "      <td>0.45</td>\n",
       "    </tr>\n",
       "  </tbody>\n",
       "</table>\n",
       "</div>"
      ],
      "text/plain": [
       "      0    1     2\n",
       "0  0.15  0.0  0.00\n",
       "1  0.00  0.4  0.00\n",
       "2  0.00  0.0  0.45"
      ]
     },
     "execution_count": 231,
     "metadata": {},
     "output_type": "execute_result"
    }
   ],
   "source": [
    "# Cols Diagonal Matrix \n",
    "diag_matrix_col = pd.DataFrame(np.identity(3))\n",
    "for i in diag_matrix_col.index:\n",
    "    diag_matrix_col.loc[i] = diag_matrix_col.loc[i] * column_masses[i]\n",
    "diag_matrix_col"
   ]
  },
  {
   "cell_type": "markdown",
   "id": "133ff2d3",
   "metadata": {},
   "source": [
    "### Eigenvectors\n",
    "\n",
    "In order to find the Perceptual Map coordinates the eigenvectors of the column (V) and the eigenvectors of the row (U) - forr both dimensions - are needed, and for this row and column masses and the eigenvalues will be used."
   ]
  },
  {
   "cell_type": "code",
   "execution_count": 232,
   "id": "e4404e04",
   "metadata": {},
   "outputs": [
    {
     "data": {
      "text/plain": [
       "array([[0.06097011285288381, 0.00930772978664061, 0.09067014673744041],\n",
       "       [0.00930772978664061, 0.18127166795768435, 0.04359870290058393],\n",
       "       [0.09067014673744041, 0.04359870290058393, 0.13976118790359376]],\n",
       "      dtype=object)"
      ]
     },
     "execution_count": 232,
     "metadata": {},
     "output_type": "execute_result"
    }
   ],
   "source": [
    "# 1 Dimension Matrix\n",
    "dim1_matrix = (np.identity(3)*df_eigenvalues['Eigenvalue'].loc[1]) - matrix_w\n",
    "dim1_matrix"
   ]
  },
  {
   "cell_type": "code",
   "execution_count": 233,
   "id": "6896340a",
   "metadata": {},
   "outputs": [
    {
     "data": {
      "text/plain": [
       "array([[ 0.82178847],\n",
       "       [ 0.09300977],\n",
       "       [-0.56215025]])"
      ]
     },
     "execution_count": 233,
     "metadata": {},
     "output_type": "execute_result"
    }
   ],
   "source": [
    "# V1 eigenvector\n",
    "v1 = scipy.linalg.null_space(dim1_matrix.astype(float))\n",
    "v1"
   ]
  },
  {
   "cell_type": "code",
   "execution_count": 234,
   "id": "4844a78c",
   "metadata": {},
   "outputs": [
    {
     "data": {
      "text/plain": [
       "array([[0.671624811912404],\n",
       "       [0.3980014914834623],\n",
       "       [-0.6249119336359065]], dtype=object)"
      ]
     },
     "execution_count": 234,
     "metadata": {},
     "output_type": "execute_result"
    }
   ],
   "source": [
    "# U1 eigenvector\n",
    "u1 = np.dot(matrix_a, v1/df_eigenvalues['Single Value'].loc[1])\n",
    "u1"
   ]
  },
  {
   "cell_type": "code",
   "execution_count": 235,
   "id": "a533ec41",
   "metadata": {},
   "outputs": [
    {
     "data": {
      "text/plain": [
       "array([[-0.08781798303543957, 0.00930772978664061, 0.09067014673744041],\n",
       "       [0.00930772978664061, 0.032483572069360964, 0.04359870290058393],\n",
       "       [0.09067014673744041, 0.04359870290058393, -0.009026907984729632]],\n",
       "      dtype=object)"
      ]
     },
     "execution_count": 235,
     "metadata": {},
     "output_type": "execute_result"
    }
   ],
   "source": [
    "# 2 Dimension Matrix\n",
    "dim2_matrix = (np.identity(3)*df_eigenvalues['Eigenvalue'].loc[2]) - matrix_w\n",
    "dim2_matrix"
   ]
  },
  {
   "cell_type": "code",
   "execution_count": 236,
   "id": "fb866bed",
   "metadata": {},
   "outputs": [
    {
     "data": {
      "text/plain": [
       "array([[ 0.41792789],\n",
       "       [-0.76899232],\n",
       "       [ 0.48372213]])"
      ]
     },
     "execution_count": 236,
     "metadata": {},
     "output_type": "execute_result"
    }
   ],
   "source": [
    "# V2 eigenvector\n",
    "v2 = scipy.linalg.null_space(dim2_matrix.astype(float))\n",
    "v2"
   ]
  },
  {
   "cell_type": "code",
   "execution_count": 237,
   "id": "c5eb139c",
   "metadata": {},
   "outputs": [
    {
     "data": {
      "text/plain": [
       "array([[0.6155648723113007],\n",
       "       [-0.7691520088883205],\n",
       "       [0.17171218710223343]], dtype=object)"
      ]
     },
     "execution_count": 237,
     "metadata": {},
     "output_type": "execute_result"
    }
   ],
   "source": [
    "# U2 eigenvector\n",
    "u2 = np.dot(matrix_a, v2/df_eigenvalues['Single Value'].loc[2])\n",
    "u2"
   ]
  },
  {
   "cell_type": "markdown",
   "id": "8ddb7873",
   "metadata": {},
   "source": [
    "### Map's Coordinates\n",
    "\n",
    "Once the Diagonal Matrixes and the Eigenvectors were found, the next step is determinating the categories's codinates.\n",
    "\n",
    "\n",
    "For categories in the contingency table's rows:\n",
    "\n",
    "\n",
    " - Abcissas(X): Xrow = √eigenval1. DiagMatrixRow-1/2 . u1\n",
    " \n",
    " - Ordinates(Y): Yrow = √eigenval2. DiagMatrixRow-1/2 . u2\n",
    "\n",
    "\n",
    "\n",
    "For categories in the contingency table's columns:\n",
    " \n",
    " - Abcissas(x): Xcol = √eigenval1. DiagMatrixCol-1/2 . v1\n",
    " \n",
    " - Ordinates(Y): Ycol = √eigenval2. DiagMatrixCol-1/2 . v2"
   ]
  },
  {
   "cell_type": "code",
   "execution_count": 238,
   "id": "1d9aaef6",
   "metadata": {},
   "outputs": [
    {
     "data": {
      "text/plain": [
       "array([[1.1319867204159946],\n",
       "       [0.5531638059383607],\n",
       "       [-0.5702218861298436]], dtype=object)"
      ]
     },
     "execution_count": 238,
     "metadata": {},
     "output_type": "execute_result"
    }
   ],
   "source": [
    "# X Row\n",
    "Xrow = np.dot(((df_eigenvalues['Single Value'].loc[1]**(1/2))/(diag_matrix_row**(1/2))).replace([np.inf, -np.inf],0), u1)\n",
    "Xrow"
   ]
  },
  {
   "cell_type": "code",
   "execution_count": 239,
   "id": "645febc5",
   "metadata": {},
   "outputs": [
    {
     "data": {
      "text/plain": [
       "array([[0.8047656302076793],\n",
       "       [-0.829205600829271],\n",
       "       [0.12153662598622798]], dtype=object)"
      ]
     },
     "execution_count": 239,
     "metadata": {},
     "output_type": "execute_result"
    }
   ],
   "source": [
    "# Y Row\n",
    "Yrow = np.dot(((df_eigenvalues['Single Value'].loc[2]**(1/2))/(diag_matrix_row**(1/2))).replace([np.inf, -np.inf],0), u2)\n",
    "Yrow"
   ]
  },
  {
   "cell_type": "code",
   "execution_count": 240,
   "id": "a96cd788",
   "metadata": {},
   "outputs": [
    {
     "data": {
      "text/plain": [
       "array([[ 1.47452952],\n",
       "       [ 0.10219688],\n",
       "       [-0.58235151]])"
      ]
     },
     "execution_count": 240,
     "metadata": {},
     "output_type": "execute_result"
    }
   ],
   "source": [
    "# X Col\n",
    "Xcol = np.dot(((df_eigenvalues['Single Value'].loc[1]**(1/2))/(diag_matrix_col**(1/2))).replace([np.inf, -np.inf],0), v1)\n",
    "Xcol"
   ]
  },
  {
   "cell_type": "code",
   "execution_count": 241,
   "id": "3c034d58",
   "metadata": {},
   "outputs": [
    {
     "data": {
      "text/plain": [
       "array([[ 0.5816688 ],\n",
       "       [-0.65540848],\n",
       "       [ 0.38869572]])"
      ]
     },
     "execution_count": 241,
     "metadata": {},
     "output_type": "execute_result"
    }
   ],
   "source": [
    "# Y Col\n",
    "Ycol = np.dot(((df_eigenvalues['Single Value'].loc[2]**(1/2))/(diag_matrix_col**(1/2))).replace([np.inf, -np.inf],0), v2)\n",
    "Ycol"
   ]
  },
  {
   "cell_type": "code",
   "execution_count": 242,
   "id": "7ee5ee77",
   "metadata": {},
   "outputs": [
    {
     "data": {
      "text/html": [
       "<div>\n",
       "<style scoped>\n",
       "    .dataframe tbody tr th:only-of-type {\n",
       "        vertical-align: middle;\n",
       "    }\n",
       "\n",
       "    .dataframe tbody tr th {\n",
       "        vertical-align: top;\n",
       "    }\n",
       "\n",
       "    .dataframe thead th {\n",
       "        text-align: right;\n",
       "    }\n",
       "</style>\n",
       "<table border=\"1\" class=\"dataframe\">\n",
       "  <thead>\n",
       "    <tr style=\"text-align: right;\">\n",
       "      <th></th>\n",
       "      <th>X</th>\n",
       "      <th>Y</th>\n",
       "    </tr>\n",
       "  </thead>\n",
       "  <tbody>\n",
       "    <tr>\n",
       "      <th>Conservador</th>\n",
       "      <td>1.131987</td>\n",
       "      <td>0.804766</td>\n",
       "    </tr>\n",
       "    <tr>\n",
       "      <th>Moderado</th>\n",
       "      <td>0.553164</td>\n",
       "      <td>-0.829206</td>\n",
       "    </tr>\n",
       "    <tr>\n",
       "      <th>Agressivo</th>\n",
       "      <td>-0.570222</td>\n",
       "      <td>0.121537</td>\n",
       "    </tr>\n",
       "    <tr>\n",
       "      <th>Poupança</th>\n",
       "      <td>1.47453</td>\n",
       "      <td>0.581669</td>\n",
       "    </tr>\n",
       "    <tr>\n",
       "      <th>CDB</th>\n",
       "      <td>0.102197</td>\n",
       "      <td>-0.655408</td>\n",
       "    </tr>\n",
       "    <tr>\n",
       "      <th>Ações</th>\n",
       "      <td>-0.582352</td>\n",
       "      <td>0.388696</td>\n",
       "    </tr>\n",
       "  </tbody>\n",
       "</table>\n",
       "</div>"
      ],
      "text/plain": [
       "                    X         Y\n",
       "Conservador  1.131987  0.804766\n",
       "Moderado     0.553164 -0.829206\n",
       "Agressivo   -0.570222  0.121537\n",
       "Poupança      1.47453  0.581669\n",
       "CDB          0.102197 -0.655408\n",
       "Ações       -0.582352  0.388696"
      ]
     },
     "execution_count": 242,
     "metadata": {},
     "output_type": "execute_result"
    }
   ],
   "source": [
    "# Coordinates\n",
    "df_coordinates = pd.DataFrame(index = list(row_masses.index) + list(column_masses.index), columns = ['X', 'Y'])\n",
    "df_coordinates['X'].loc[list(row_masses.index)] = Xrow.reshape(3)\n",
    "df_coordinates['Y'].loc[list(row_masses.index)] = Yrow.reshape(3)\n",
    "df_coordinates['X'].loc[list(column_masses.index)] = Xcol.reshape(3)\n",
    "df_coordinates['Y'].loc[list(column_masses.index)] = Ycol.reshape(3)\n",
    "df_coordinates"
   ]
  },
  {
   "cell_type": "markdown",
   "id": "0fda7930",
   "metadata": {},
   "source": [
    "### Plotting and Interpreting the Perceptual Map"
   ]
  },
  {
   "cell_type": "code",
   "execution_count": 262,
   "id": "80d507aa",
   "metadata": {},
   "outputs": [
    {
     "data": {
      "image/png": "[encoded data removed]",
      "text/plain": [
       "<Figure size 640x480 with 1 Axes>"
      ]
     },
     "metadata": {},
     "output_type": "display_data"
    }
   ],
   "source": [
    "plt.scatter(df_coordinates['X'].loc[row_masses.index], df_coordinates['Y'].loc[row_masses.index]*-1)\n",
    "plt.scatter(df_coordinates['X'].loc[column_masses.index], df_coordinates['Y'].loc[column_masses.index]*-1)\n",
    "plt.hlines(0, df_coordinates['X'].max()*1.2, df_coordinates['X'].min()*1.5, color='black')\n",
    "plt.vlines(0, df_coordinates['Y'].max()*1.2, df_coordinates['Y'].min()*1.5, color='black')\n",
    "for i in df_coordinates.index:\n",
    "    plt.text(df_coordinates['X'].loc[i], df_coordinates['Y'].loc[i]*-1, i)\n",
    "plt.title('Principal Coordinates')\n",
    "plt.xlabel(f'Component X ({round((df_eigenvalues[\"% TPI\"].loc[1]*100),2)}% Inertia)', size=10)\n",
    "plt.ylabel(f'Component Y ({round((df_eigenvalues[\"% TPI\"].loc[2]*100),2)}% Inertia)', size=10)\n",
    "plt.show()"
   ]
  },
  {
   "cell_type": "markdown",
   "id": "324a8c62",
   "metadata": {},
   "source": [
    "### COmparação"
   ]
  },
  {
   "cell_type": "code",
   "execution_count": 257,
   "id": "b00cd266",
   "metadata": {},
   "outputs": [],
   "source": [
    "# Num. de dimensões\n",
    "ndim = (np.array(contingency_table.shape) - 1).min()\n",
    "# Criando o modelo ANACOR\n",
    "ca = prince.CA(n_components=ndim)\n",
    "ca.fit(contingency_table);"
   ]
  },
  {
   "cell_type": "code",
   "execution_count": 258,
   "id": "83dc8c2e",
   "metadata": {},
   "outputs": [
    {
     "data": {
      "image/png": "[encoded data removed]",
      "text/plain": [
       "<Figure size 1200x800 with 1 Axes>"
      ]
     },
     "metadata": {},
     "output_type": "display_data"
    }
   ],
   "source": [
    "ca.plot_coordinates(contingency_table, figsize=(12, 8))\n",
    "plt.show()"
   ]
  }
 ],
 "metadata": {
  "kernelspec": {
   "display_name": "Python 3",
   "language": "python",
   "name": "python3"
  },
  "language_info": {
   "codemirror_mode": {
    "name": "ipython",
    "version": 3
   },
   "file_extension": ".py",
   "mimetype": "text/x-python",
   "name": "python",
   "nbconvert_exporter": "python",
   "pygments_lexer": "ipython3",
   "version": "3.9.13"
  }
 },
 "nbformat": 4,
 "nbformat_minor": 5
}
